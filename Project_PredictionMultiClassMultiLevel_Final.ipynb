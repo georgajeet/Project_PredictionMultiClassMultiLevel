{
  "cells": [
    {
      "cell_type": "code",
      "execution_count": 1,
      "metadata": {
        "id": "saGpZA0FfsgH"
      },
      "outputs": [],
      "source": [
        "import pandas as pd\n",
        "import numpy as np\n",
        "from sklearn.model_selection import train_test_split\n",
        "from nltk import word_tokenize\n",
        "from tensorflow.keras.preprocessing.text import Tokenizer\n",
        "from tensorflow.keras.preprocessing import sequence\n",
        "from tensorflow.keras.layers import GRU, Activation, Dense, Dropout, Input, Embedding\n",
        "from tensorflow.keras.models import Model\n",
        "#from dask import dataframe as dsk"
      ]
    },
    {
      "cell_type": "code",
      "execution_count": 2,
      "metadata": {
        "colab": {
          "base_uri": "https://localhost:8080/"
        },
        "id": "46DZTwqkgknd",
        "outputId": "a97a88a5-a555-4ec9-a508-e925d7e9ac4a"
      },
      "outputs": [
        {
          "output_type": "stream",
          "name": "stderr",
          "text": [
            "[nltk_data] Downloading package punkt to /root/nltk_data...\n",
            "[nltk_data]   Unzipping tokenizers/punkt.zip.\n"
          ]
        },
        {
          "output_type": "execute_result",
          "data": {
            "text/plain": [
              "True"
            ]
          },
          "metadata": {},
          "execution_count": 2
        }
      ],
      "source": [
        "import nltk\n",
        "nltk.download('punkt')"
      ]
    },
    {
      "cell_type": "code",
      "execution_count": 3,
      "metadata": {
        "id": "RT2UGmn1K7BV"
      },
      "outputs": [],
      "source": [
        "from sklearn.preprocessing import MultiLabelBinarizer"
      ]
    },
    {
      "cell_type": "code",
      "execution_count": 4,
      "metadata": {
        "id": "fY6oL_n_hSQZ"
      },
      "outputs": [],
      "source": [
        "from bs4 import BeautifulSoup\n",
        "from urllib.request import urlopen"
      ]
    },
    {
      "cell_type": "code",
      "execution_count": 5,
      "metadata": {
        "colab": {
          "base_uri": "https://localhost:8080/"
        },
        "id": "yTuD7r0QJweo",
        "outputId": "53a98794-28c6-4224-e5b3-f0a745a27eb1"
      },
      "outputs": [
        {
          "output_type": "stream",
          "name": "stdout",
          "text": [
            "--2023-07-25 10:07:21--  https://www.dropbox.com/s/5721wcs2guuykzl/stacksample.zip?dl=0\n",
            "Resolving www.dropbox.com (www.dropbox.com)... 162.125.4.18, 2620:100:6018:18::a27d:312\n",
            "Connecting to www.dropbox.com (www.dropbox.com)|162.125.4.18|:443... connected.\n",
            "HTTP request sent, awaiting response... 302 Found\n",
            "Location: /s/raw/5721wcs2guuykzl/stacksample.zip [following]\n",
            "--2023-07-25 10:07:21--  https://www.dropbox.com/s/raw/5721wcs2guuykzl/stacksample.zip\n",
            "Reusing existing connection to www.dropbox.com:443.\n",
            "HTTP request sent, awaiting response... 302 Found\n",
            "Location: https://uce4b4578ac5c224ab9cc231047f.dl.dropboxusercontent.com/cd/0/inline/CAhIpzK5QNur8iMRAz3kPFNEFTy3v6oIAMsbGxRM-yelwUr0DtBvZw0w03TDdCrWcjAyTm8aSUnqn24ENbGfmT-1NDJpUzidiOkhxS5De2cPUtAI5UdEDWnUTP4ZFleJv5HbL30i4gwIrTMhTUOma1l5eYQ9UmiNY-UbLTa6e2g-xw/file# [following]\n",
            "--2023-07-25 10:07:21--  https://uce4b4578ac5c224ab9cc231047f.dl.dropboxusercontent.com/cd/0/inline/CAhIpzK5QNur8iMRAz3kPFNEFTy3v6oIAMsbGxRM-yelwUr0DtBvZw0w03TDdCrWcjAyTm8aSUnqn24ENbGfmT-1NDJpUzidiOkhxS5De2cPUtAI5UdEDWnUTP4ZFleJv5HbL30i4gwIrTMhTUOma1l5eYQ9UmiNY-UbLTa6e2g-xw/file\n",
            "Resolving uce4b4578ac5c224ab9cc231047f.dl.dropboxusercontent.com (uce4b4578ac5c224ab9cc231047f.dl.dropboxusercontent.com)... 162.125.3.15, 2620:100:601d:15::a27d:50f\n",
            "Connecting to uce4b4578ac5c224ab9cc231047f.dl.dropboxusercontent.com (uce4b4578ac5c224ab9cc231047f.dl.dropboxusercontent.com)|162.125.3.15|:443... connected.\n",
            "HTTP request sent, awaiting response... 302 Found\n",
            "Location: /cd/0/inline2/CAhD-NImqrO1yjMo5Bn-_qb9gREmhpZc5opdic3feGvTlVRXebcZQXKCZfjz9RjAQ9OYnbw-1CperqX6R89mvhL_fB75R5I2FNU_3-GvdIEINWX28YBzhPKElYLwC-yWX0e5K6AaxXm0ZWp8MqZ2UNhuGgrH_-SWfBtfGcdhiZPfgX6l0xRonsXI5aaxtlOQZF7bmJkU0UqeDs890OiU9P5DUdmJaE4p8vU-CItymHRcxepwMIVdjfiJVzsXjV_1IBh1hFKmaEXPqLhoqBs5YCCLbXOTyNywXQejSdtx2nqFzO9_ebiCjcEoUoeWLRpX9HJ6m53VbuNEmucjZn8GMUrhKB2xN4YvxawMG5q-cuIUhniKL3-cMK640cxxin0TMGdoZVxXpRbRlh3YIQkY_xx6j7ixCfn193Ff4B_mcRM7lg/file [following]\n",
            "--2023-07-25 10:07:22--  https://uce4b4578ac5c224ab9cc231047f.dl.dropboxusercontent.com/cd/0/inline2/CAhD-NImqrO1yjMo5Bn-_qb9gREmhpZc5opdic3feGvTlVRXebcZQXKCZfjz9RjAQ9OYnbw-1CperqX6R89mvhL_fB75R5I2FNU_3-GvdIEINWX28YBzhPKElYLwC-yWX0e5K6AaxXm0ZWp8MqZ2UNhuGgrH_-SWfBtfGcdhiZPfgX6l0xRonsXI5aaxtlOQZF7bmJkU0UqeDs890OiU9P5DUdmJaE4p8vU-CItymHRcxepwMIVdjfiJVzsXjV_1IBh1hFKmaEXPqLhoqBs5YCCLbXOTyNywXQejSdtx2nqFzO9_ebiCjcEoUoeWLRpX9HJ6m53VbuNEmucjZn8GMUrhKB2xN4YvxawMG5q-cuIUhniKL3-cMK640cxxin0TMGdoZVxXpRbRlh3YIQkY_xx6j7ixCfn193Ff4B_mcRM7lg/file\n",
            "Reusing existing connection to uce4b4578ac5c224ab9cc231047f.dl.dropboxusercontent.com:443.\n",
            "HTTP request sent, awaiting response... 200 OK\n",
            "Length: 1231288519 (1.1G) [application/zip]\n",
            "Saving to: ‘stacksample.zip?dl=0’\n",
            "\n",
            "stacksample.zip?dl= 100%[===================>]   1.15G  82.5MB/s    in 17s     \n",
            "\n",
            "2023-07-25 10:07:39 (70.2 MB/s) - ‘stacksample.zip?dl=0’ saved [1231288519/1231288519]\n",
            "\n"
          ]
        }
      ],
      "source": [
        "!wget 'https://www.dropbox.com/s/5721wcs2guuykzl/stacksample.zip?dl=0'"
      ]
    },
    {
      "cell_type": "code",
      "execution_count": 6,
      "metadata": {
        "colab": {
          "base_uri": "https://localhost:8080/"
        },
        "id": "uEdLfnr5LLwN",
        "outputId": "da020c21-3a1c-406a-f50f-6afc5f39aa16"
      },
      "outputs": [
        {
          "output_type": "stream",
          "name": "stdout",
          "text": [
            "Archive:  stacksample.zip?dl=0\n",
            "  inflating: Answers.csv             \n",
            "  inflating: Questions.csv           \n",
            "  inflating: Tags.csv                \n"
          ]
        }
      ],
      "source": [
        "!unzip stacksample.zip?dl=0"
      ]
    },
    {
      "cell_type": "code",
      "execution_count": 7,
      "metadata": {
        "id": "pjASu9wsLkeF"
      },
      "outputs": [],
      "source": [
        "!rm stacksample.zip?dl=0"
      ]
    },
    {
      "cell_type": "code",
      "source": [
        "consideredMaxId = 1800000"
      ],
      "metadata": {
        "id": "-2uzxDi2GkRi"
      },
      "execution_count": 15,
      "outputs": []
    },
    {
      "cell_type": "code",
      "execution_count": 16,
      "metadata": {
        "id": "nBQArIjQME2R"
      },
      "outputs": [],
      "source": [
        "listofQuestions = pd.read_csv('/content/Questions.csv', usecols=[\"Id\", \"Body\"], encoding = \"ISO-8859-1\")"
      ]
    },
    {
      "cell_type": "code",
      "source": [
        "listofTags = pd.read_csv('/content/Tags.csv',usecols = [\"Id\", \"Tag\"], encoding = \"ISO-8859-1\")"
      ],
      "metadata": {
        "id": "xfHRJ29UBfBv"
      },
      "execution_count": 17,
      "outputs": []
    },
    {
      "cell_type": "code",
      "source": [
        "listofQuestions = listofQuestions.loc[listofQuestions['Id'] < consideredMaxId]\n",
        "listofTags = listofTags.loc[listofTags['Id'] < consideredMaxId]"
      ],
      "metadata": {
        "id": "KGa5txetSfdF"
      },
      "execution_count": 18,
      "outputs": []
    },
    {
      "cell_type": "code",
      "source": [
        "def GetProperData(txt):\n",
        "\tsoup = BeautifulSoup(txt,'lxml')\n",
        "\tparas=soup.find_all('p')\n",
        "\tparas=[p.text for p in paras]\n",
        "\treturn paras"
      ],
      "metadata": {
        "id": "Qp7j6iY4Agpw"
      },
      "execution_count": 19,
      "outputs": []
    },
    {
      "cell_type": "code",
      "source": [
        "listofQuestions.sort_values(by=['Id'])\n",
        "listofQuestions['Body'] = listofQuestions.apply(lambda x: GetProperData(x['Body']), axis=1)\n",
        "listofQuestions['Body'] = listofQuestions.Body.apply(lambda x: ' '.join(x))"
      ],
      "metadata": {
        "id": "qF5gaoGDAlxc"
      },
      "execution_count": 20,
      "outputs": []
    },
    {
      "cell_type": "code",
      "source": [
        "listofQuestions.head()"
      ],
      "metadata": {
        "id": "yKNnz8XwA7uM",
        "colab": {
          "base_uri": "https://localhost:8080/",
          "height": 206
        },
        "outputId": "6a9db46b-afba-4530-be0b-5c1b9bd3e0ef"
      },
      "execution_count": 21,
      "outputs": [
        {
          "output_type": "execute_result",
          "data": {
            "text/plain": [
              "    Id                                               Body\n",
              "0   80  I've written a database generation script in S...\n",
              "1   90  Are there any really good tutorials explaining...\n",
              "2  120  Has anyone got experience creating SQL-based A...\n",
              "3  180  This is something I've pseudo-solved many time...\n",
              "4  260  I have a little game written in C#. It uses a ..."
            ],
            "text/html": [
              "\n",
              "\n",
              "  <div id=\"df-3c35410d-a73d-4b8c-99ea-060e73908a13\">\n",
              "    <div class=\"colab-df-container\">\n",
              "      <div>\n",
              "<style scoped>\n",
              "    .dataframe tbody tr th:only-of-type {\n",
              "        vertical-align: middle;\n",
              "    }\n",
              "\n",
              "    .dataframe tbody tr th {\n",
              "        vertical-align: top;\n",
              "    }\n",
              "\n",
              "    .dataframe thead th {\n",
              "        text-align: right;\n",
              "    }\n",
              "</style>\n",
              "<table border=\"1\" class=\"dataframe\">\n",
              "  <thead>\n",
              "    <tr style=\"text-align: right;\">\n",
              "      <th></th>\n",
              "      <th>Id</th>\n",
              "      <th>Body</th>\n",
              "    </tr>\n",
              "  </thead>\n",
              "  <tbody>\n",
              "    <tr>\n",
              "      <th>0</th>\n",
              "      <td>80</td>\n",
              "      <td>I've written a database generation script in S...</td>\n",
              "    </tr>\n",
              "    <tr>\n",
              "      <th>1</th>\n",
              "      <td>90</td>\n",
              "      <td>Are there any really good tutorials explaining...</td>\n",
              "    </tr>\n",
              "    <tr>\n",
              "      <th>2</th>\n",
              "      <td>120</td>\n",
              "      <td>Has anyone got experience creating SQL-based A...</td>\n",
              "    </tr>\n",
              "    <tr>\n",
              "      <th>3</th>\n",
              "      <td>180</td>\n",
              "      <td>This is something I've pseudo-solved many time...</td>\n",
              "    </tr>\n",
              "    <tr>\n",
              "      <th>4</th>\n",
              "      <td>260</td>\n",
              "      <td>I have a little game written in C#. It uses a ...</td>\n",
              "    </tr>\n",
              "  </tbody>\n",
              "</table>\n",
              "</div>\n",
              "      <button class=\"colab-df-convert\" onclick=\"convertToInteractive('df-3c35410d-a73d-4b8c-99ea-060e73908a13')\"\n",
              "              title=\"Convert this dataframe to an interactive table.\"\n",
              "              style=\"display:none;\">\n",
              "\n",
              "  <svg xmlns=\"http://www.w3.org/2000/svg\" height=\"24px\"viewBox=\"0 0 24 24\"\n",
              "       width=\"24px\">\n",
              "    <path d=\"M0 0h24v24H0V0z\" fill=\"none\"/>\n",
              "    <path d=\"M18.56 5.44l.94 2.06.94-2.06 2.06-.94-2.06-.94-.94-2.06-.94 2.06-2.06.94zm-11 1L8.5 8.5l.94-2.06 2.06-.94-2.06-.94L8.5 2.5l-.94 2.06-2.06.94zm10 10l.94 2.06.94-2.06 2.06-.94-2.06-.94-.94-2.06-.94 2.06-2.06.94z\"/><path d=\"M17.41 7.96l-1.37-1.37c-.4-.4-.92-.59-1.43-.59-.52 0-1.04.2-1.43.59L10.3 9.45l-7.72 7.72c-.78.78-.78 2.05 0 2.83L4 21.41c.39.39.9.59 1.41.59.51 0 1.02-.2 1.41-.59l7.78-7.78 2.81-2.81c.8-.78.8-2.07 0-2.86zM5.41 20L4 18.59l7.72-7.72 1.47 1.35L5.41 20z\"/>\n",
              "  </svg>\n",
              "      </button>\n",
              "\n",
              "\n",
              "\n",
              "    <div id=\"df-02b02c8a-e2c4-4991-acd9-0c2817a8ba49\">\n",
              "      <button class=\"colab-df-quickchart\" onclick=\"quickchart('df-02b02c8a-e2c4-4991-acd9-0c2817a8ba49')\"\n",
              "              title=\"Suggest charts.\"\n",
              "              style=\"display:none;\">\n",
              "\n",
              "<svg xmlns=\"http://www.w3.org/2000/svg\" height=\"24px\"viewBox=\"0 0 24 24\"\n",
              "     width=\"24px\">\n",
              "    <g>\n",
              "        <path d=\"M19 3H5c-1.1 0-2 .9-2 2v14c0 1.1.9 2 2 2h14c1.1 0 2-.9 2-2V5c0-1.1-.9-2-2-2zM9 17H7v-7h2v7zm4 0h-2V7h2v10zm4 0h-2v-4h2v4z\"/>\n",
              "    </g>\n",
              "</svg>\n",
              "      </button>\n",
              "    </div>\n",
              "\n",
              "<style>\n",
              "  .colab-df-quickchart {\n",
              "    background-color: #E8F0FE;\n",
              "    border: none;\n",
              "    border-radius: 50%;\n",
              "    cursor: pointer;\n",
              "    display: none;\n",
              "    fill: #1967D2;\n",
              "    height: 32px;\n",
              "    padding: 0 0 0 0;\n",
              "    width: 32px;\n",
              "  }\n",
              "\n",
              "  .colab-df-quickchart:hover {\n",
              "    background-color: #E2EBFA;\n",
              "    box-shadow: 0px 1px 2px rgba(60, 64, 67, 0.3), 0px 1px 3px 1px rgba(60, 64, 67, 0.15);\n",
              "    fill: #174EA6;\n",
              "  }\n",
              "\n",
              "  [theme=dark] .colab-df-quickchart {\n",
              "    background-color: #3B4455;\n",
              "    fill: #D2E3FC;\n",
              "  }\n",
              "\n",
              "  [theme=dark] .colab-df-quickchart:hover {\n",
              "    background-color: #434B5C;\n",
              "    box-shadow: 0px 1px 3px 1px rgba(0, 0, 0, 0.15);\n",
              "    filter: drop-shadow(0px 1px 2px rgba(0, 0, 0, 0.3));\n",
              "    fill: #FFFFFF;\n",
              "  }\n",
              "</style>\n",
              "\n",
              "    <script>\n",
              "      async function quickchart(key) {\n",
              "        const containerElement = document.querySelector('#' + key);\n",
              "        const charts = await google.colab.kernel.invokeFunction(\n",
              "            'suggestCharts', [key], {});\n",
              "      }\n",
              "    </script>\n",
              "\n",
              "      <script>\n",
              "\n",
              "function displayQuickchartButton(domScope) {\n",
              "  let quickchartButtonEl =\n",
              "    domScope.querySelector('#df-02b02c8a-e2c4-4991-acd9-0c2817a8ba49 button.colab-df-quickchart');\n",
              "  quickchartButtonEl.style.display =\n",
              "    google.colab.kernel.accessAllowed ? 'block' : 'none';\n",
              "}\n",
              "\n",
              "        displayQuickchartButton(document);\n",
              "      </script>\n",
              "      <style>\n",
              "    .colab-df-container {\n",
              "      display:flex;\n",
              "      flex-wrap:wrap;\n",
              "      gap: 12px;\n",
              "    }\n",
              "\n",
              "    .colab-df-convert {\n",
              "      background-color: #E8F0FE;\n",
              "      border: none;\n",
              "      border-radius: 50%;\n",
              "      cursor: pointer;\n",
              "      display: none;\n",
              "      fill: #1967D2;\n",
              "      height: 32px;\n",
              "      padding: 0 0 0 0;\n",
              "      width: 32px;\n",
              "    }\n",
              "\n",
              "    .colab-df-convert:hover {\n",
              "      background-color: #E2EBFA;\n",
              "      box-shadow: 0px 1px 2px rgba(60, 64, 67, 0.3), 0px 1px 3px 1px rgba(60, 64, 67, 0.15);\n",
              "      fill: #174EA6;\n",
              "    }\n",
              "\n",
              "    [theme=dark] .colab-df-convert {\n",
              "      background-color: #3B4455;\n",
              "      fill: #D2E3FC;\n",
              "    }\n",
              "\n",
              "    [theme=dark] .colab-df-convert:hover {\n",
              "      background-color: #434B5C;\n",
              "      box-shadow: 0px 1px 3px 1px rgba(0, 0, 0, 0.15);\n",
              "      filter: drop-shadow(0px 1px 2px rgba(0, 0, 0, 0.3));\n",
              "      fill: #FFFFFF;\n",
              "    }\n",
              "  </style>\n",
              "\n",
              "      <script>\n",
              "        const buttonEl =\n",
              "          document.querySelector('#df-3c35410d-a73d-4b8c-99ea-060e73908a13 button.colab-df-convert');\n",
              "        buttonEl.style.display =\n",
              "          google.colab.kernel.accessAllowed ? 'block' : 'none';\n",
              "\n",
              "        async function convertToInteractive(key) {\n",
              "          const element = document.querySelector('#df-3c35410d-a73d-4b8c-99ea-060e73908a13');\n",
              "          const dataTable =\n",
              "            await google.colab.kernel.invokeFunction('convertToInteractive',\n",
              "                                                     [key], {});\n",
              "          if (!dataTable) return;\n",
              "\n",
              "          const docLinkHtml = 'Like what you see? Visit the ' +\n",
              "            '<a target=\"_blank\" href=https://colab.research.google.com/notebooks/data_table.ipynb>data table notebook</a>'\n",
              "            + ' to learn more about interactive tables.';\n",
              "          element.innerHTML = '';\n",
              "          dataTable['output_type'] = 'display_data';\n",
              "          await google.colab.output.renderOutput(dataTable, element);\n",
              "          const docLink = document.createElement('div');\n",
              "          docLink.innerHTML = docLinkHtml;\n",
              "          element.appendChild(docLink);\n",
              "        }\n",
              "      </script>\n",
              "    </div>\n",
              "  </div>\n"
            ]
          },
          "metadata": {},
          "execution_count": 21
        }
      ]
    },
    {
      "cell_type": "code",
      "source": [
        "listofQuestions._get_value(0, 'Body', takeable=False)"
      ],
      "metadata": {
        "id": "KXsLjYaRYOEd",
        "colab": {
          "base_uri": "https://localhost:8080/",
          "height": 53
        },
        "outputId": "482c468a-12fe-4d1b-f304-5573c5503b50"
      },
      "execution_count": 22,
      "outputs": [
        {
          "output_type": "execute_result",
          "data": {
            "text/plain": [
              "\"I've written a database generation script in SQL and want to execute it in my Adobe AIR application: I execute this in Adobe AIR using the following methods: No errors are generated, however only tRole exists. It seems that it only looks at the first query (up to the semicolon- if I remove it, the query fails). Is there a way to call multiple queries in one statement?\""
            ],
            "application/vnd.google.colaboratory.intrinsic+json": {
              "type": "string"
            }
          },
          "metadata": {},
          "execution_count": 22
        }
      ]
    },
    {
      "cell_type": "code",
      "execution_count": 23,
      "metadata": {
        "id": "RjkAzvRK25W-",
        "colab": {
          "base_uri": "https://localhost:8080/"
        },
        "outputId": "00c735dc-e32d-4d6f-bc0d-2643edef0efc"
      },
      "outputs": [
        {
          "output_type": "execute_result",
          "data": {
            "text/plain": [
              "Id      0\n",
              "Tag    42\n",
              "dtype: int64"
            ]
          },
          "metadata": {},
          "execution_count": 23
        }
      ],
      "source": [
        "listofTags.isnull().sum()"
      ]
    },
    {
      "cell_type": "code",
      "execution_count": 24,
      "metadata": {
        "id": "IQAKfUA-26Rd"
      },
      "outputs": [],
      "source": [
        "listofTags[\"Tag\"].fillna(\"Null_Val\", inplace = True)"
      ]
    },
    {
      "cell_type": "code",
      "execution_count": null,
      "metadata": {
        "id": "gHuVu2VS2-Ox",
        "colab": {
          "base_uri": "https://localhost:8080/"
        },
        "outputId": "a980955d-57c6-4750-8b4a-b7ef4f763cdb"
      },
      "outputs": [
        {
          "output_type": "execute_result",
          "data": {
            "text/plain": [
              "Id     0\n",
              "Tag    0\n",
              "dtype: int64"
            ]
          },
          "metadata": {},
          "execution_count": 22
        }
      ],
      "source": [
        "listofTags.isnull().sum()"
      ]
    },
    {
      "cell_type": "code",
      "source": [
        "n = 10\n",
        "topTag = listofTags['Tag'].value_counts()[:n].index.tolist()"
      ],
      "metadata": {
        "id": "WX_zmOJ1aMTU"
      },
      "execution_count": 26,
      "outputs": []
    },
    {
      "cell_type": "code",
      "source": [
        "tagList_top = listofTags[listofTags['Tag'].isin(topTag)]"
      ],
      "metadata": {
        "id": "n5gbCdCabW5D"
      },
      "execution_count": 27,
      "outputs": []
    },
    {
      "cell_type": "code",
      "source": [
        "listofTags = tagList_top"
      ],
      "metadata": {
        "colab": {
          "base_uri": "https://localhost:8080/"
        },
        "id": "g8DMDCq1cnbD",
        "outputId": "fbf50906-c264-47f1-ef77-a28325922285"
      },
      "execution_count": 28,
      "outputs": [
        {
          "output_type": "stream",
          "name": "stdout",
          "text": [
            "             Id         Tag\n",
            "8           120     asp.net\n",
            "14          260          c#\n",
            "15          260        .net\n",
            "18          330         c++\n",
            "22          470        .net\n",
            "...         ...         ...\n",
            "103416  1799380         php\n",
            "103420  1799620  javascript\n",
            "103421  1799620      jquery\n",
            "103433  1799820         c++\n",
            "103436  1799990        java\n",
            "\n",
            "[21746 rows x 2 columns]\n"
          ]
        }
      ]
    },
    {
      "cell_type": "code",
      "source": [
        "df = listofQuestions\n",
        "a = listofTags['Id']\n",
        "df = df[df['Id'].isin(a)]\n",
        "listofQuestions = df"
      ],
      "metadata": {
        "id": "eSkMomzTT1Sw"
      },
      "execution_count": 29,
      "outputs": []
    },
    {
      "cell_type": "code",
      "source": [
        "def add_tags(question_id):\n",
        "    return listofTags[listofTags['Id'] == question_id['Id']].Tag.values\n",
        "\n",
        "temp = listofTags.apply(add_tags, axis=1)\n",
        "print(type(temp))"
      ],
      "metadata": {
        "colab": {
          "base_uri": "https://localhost:8080/"
        },
        "id": "N41gqujHVEIl",
        "outputId": "8f83b0b2-3795-4073-dcbf-25478a05d2c0"
      },
      "execution_count": 30,
      "outputs": [
        {
          "output_type": "stream",
          "name": "stdout",
          "text": [
            "<class 'pandas.core.series.Series'>\n"
          ]
        }
      ]
    },
    {
      "cell_type": "code",
      "source": [
        "listofTags=pd.concat([listofTags, temp.rename('Tags')], axis=1)\n",
        "listofTags.head()"
      ],
      "metadata": {
        "colab": {
          "base_uri": "https://localhost:8080/",
          "height": 206
        },
        "id": "xVy7ZpuTgswx",
        "outputId": "18206024-7cc1-4c7d-9927-51e03cc92858"
      },
      "execution_count": 31,
      "outputs": [
        {
          "output_type": "execute_result",
          "data": {
            "text/plain": [
              "     Id      Tag        Tags\n",
              "8   120  asp.net   [asp.net]\n",
              "14  260       c#  [c#, .net]\n",
              "15  260     .net  [c#, .net]\n",
              "18  330      c++       [c++]\n",
              "22  470     .net      [.net]"
            ],
            "text/html": [
              "\n",
              "\n",
              "  <div id=\"df-c56ae0b4-24b1-4c2f-8ac5-45d7212e0d3c\">\n",
              "    <div class=\"colab-df-container\">\n",
              "      <div>\n",
              "<style scoped>\n",
              "    .dataframe tbody tr th:only-of-type {\n",
              "        vertical-align: middle;\n",
              "    }\n",
              "\n",
              "    .dataframe tbody tr th {\n",
              "        vertical-align: top;\n",
              "    }\n",
              "\n",
              "    .dataframe thead th {\n",
              "        text-align: right;\n",
              "    }\n",
              "</style>\n",
              "<table border=\"1\" class=\"dataframe\">\n",
              "  <thead>\n",
              "    <tr style=\"text-align: right;\">\n",
              "      <th></th>\n",
              "      <th>Id</th>\n",
              "      <th>Tag</th>\n",
              "      <th>Tags</th>\n",
              "    </tr>\n",
              "  </thead>\n",
              "  <tbody>\n",
              "    <tr>\n",
              "      <th>8</th>\n",
              "      <td>120</td>\n",
              "      <td>asp.net</td>\n",
              "      <td>[asp.net]</td>\n",
              "    </tr>\n",
              "    <tr>\n",
              "      <th>14</th>\n",
              "      <td>260</td>\n",
              "      <td>c#</td>\n",
              "      <td>[c#, .net]</td>\n",
              "    </tr>\n",
              "    <tr>\n",
              "      <th>15</th>\n",
              "      <td>260</td>\n",
              "      <td>.net</td>\n",
              "      <td>[c#, .net]</td>\n",
              "    </tr>\n",
              "    <tr>\n",
              "      <th>18</th>\n",
              "      <td>330</td>\n",
              "      <td>c++</td>\n",
              "      <td>[c++]</td>\n",
              "    </tr>\n",
              "    <tr>\n",
              "      <th>22</th>\n",
              "      <td>470</td>\n",
              "      <td>.net</td>\n",
              "      <td>[.net]</td>\n",
              "    </tr>\n",
              "  </tbody>\n",
              "</table>\n",
              "</div>\n",
              "      <button class=\"colab-df-convert\" onclick=\"convertToInteractive('df-c56ae0b4-24b1-4c2f-8ac5-45d7212e0d3c')\"\n",
              "              title=\"Convert this dataframe to an interactive table.\"\n",
              "              style=\"display:none;\">\n",
              "\n",
              "  <svg xmlns=\"http://www.w3.org/2000/svg\" height=\"24px\"viewBox=\"0 0 24 24\"\n",
              "       width=\"24px\">\n",
              "    <path d=\"M0 0h24v24H0V0z\" fill=\"none\"/>\n",
              "    <path d=\"M18.56 5.44l.94 2.06.94-2.06 2.06-.94-2.06-.94-.94-2.06-.94 2.06-2.06.94zm-11 1L8.5 8.5l.94-2.06 2.06-.94-2.06-.94L8.5 2.5l-.94 2.06-2.06.94zm10 10l.94 2.06.94-2.06 2.06-.94-2.06-.94-.94-2.06-.94 2.06-2.06.94z\"/><path d=\"M17.41 7.96l-1.37-1.37c-.4-.4-.92-.59-1.43-.59-.52 0-1.04.2-1.43.59L10.3 9.45l-7.72 7.72c-.78.78-.78 2.05 0 2.83L4 21.41c.39.39.9.59 1.41.59.51 0 1.02-.2 1.41-.59l7.78-7.78 2.81-2.81c.8-.78.8-2.07 0-2.86zM5.41 20L4 18.59l7.72-7.72 1.47 1.35L5.41 20z\"/>\n",
              "  </svg>\n",
              "      </button>\n",
              "\n",
              "\n",
              "\n",
              "    <div id=\"df-8a830d4c-4470-4106-823d-1fec3b5abd3a\">\n",
              "      <button class=\"colab-df-quickchart\" onclick=\"quickchart('df-8a830d4c-4470-4106-823d-1fec3b5abd3a')\"\n",
              "              title=\"Suggest charts.\"\n",
              "              style=\"display:none;\">\n",
              "\n",
              "<svg xmlns=\"http://www.w3.org/2000/svg\" height=\"24px\"viewBox=\"0 0 24 24\"\n",
              "     width=\"24px\">\n",
              "    <g>\n",
              "        <path d=\"M19 3H5c-1.1 0-2 .9-2 2v14c0 1.1.9 2 2 2h14c1.1 0 2-.9 2-2V5c0-1.1-.9-2-2-2zM9 17H7v-7h2v7zm4 0h-2V7h2v10zm4 0h-2v-4h2v4z\"/>\n",
              "    </g>\n",
              "</svg>\n",
              "      </button>\n",
              "    </div>\n",
              "\n",
              "<style>\n",
              "  .colab-df-quickchart {\n",
              "    background-color: #E8F0FE;\n",
              "    border: none;\n",
              "    border-radius: 50%;\n",
              "    cursor: pointer;\n",
              "    display: none;\n",
              "    fill: #1967D2;\n",
              "    height: 32px;\n",
              "    padding: 0 0 0 0;\n",
              "    width: 32px;\n",
              "  }\n",
              "\n",
              "  .colab-df-quickchart:hover {\n",
              "    background-color: #E2EBFA;\n",
              "    box-shadow: 0px 1px 2px rgba(60, 64, 67, 0.3), 0px 1px 3px 1px rgba(60, 64, 67, 0.15);\n",
              "    fill: #174EA6;\n",
              "  }\n",
              "\n",
              "  [theme=dark] .colab-df-quickchart {\n",
              "    background-color: #3B4455;\n",
              "    fill: #D2E3FC;\n",
              "  }\n",
              "\n",
              "  [theme=dark] .colab-df-quickchart:hover {\n",
              "    background-color: #434B5C;\n",
              "    box-shadow: 0px 1px 3px 1px rgba(0, 0, 0, 0.15);\n",
              "    filter: drop-shadow(0px 1px 2px rgba(0, 0, 0, 0.3));\n",
              "    fill: #FFFFFF;\n",
              "  }\n",
              "</style>\n",
              "\n",
              "    <script>\n",
              "      async function quickchart(key) {\n",
              "        const containerElement = document.querySelector('#' + key);\n",
              "        const charts = await google.colab.kernel.invokeFunction(\n",
              "            'suggestCharts', [key], {});\n",
              "      }\n",
              "    </script>\n",
              "\n",
              "      <script>\n",
              "\n",
              "function displayQuickchartButton(domScope) {\n",
              "  let quickchartButtonEl =\n",
              "    domScope.querySelector('#df-8a830d4c-4470-4106-823d-1fec3b5abd3a button.colab-df-quickchart');\n",
              "  quickchartButtonEl.style.display =\n",
              "    google.colab.kernel.accessAllowed ? 'block' : 'none';\n",
              "}\n",
              "\n",
              "        displayQuickchartButton(document);\n",
              "      </script>\n",
              "      <style>\n",
              "    .colab-df-container {\n",
              "      display:flex;\n",
              "      flex-wrap:wrap;\n",
              "      gap: 12px;\n",
              "    }\n",
              "\n",
              "    .colab-df-convert {\n",
              "      background-color: #E8F0FE;\n",
              "      border: none;\n",
              "      border-radius: 50%;\n",
              "      cursor: pointer;\n",
              "      display: none;\n",
              "      fill: #1967D2;\n",
              "      height: 32px;\n",
              "      padding: 0 0 0 0;\n",
              "      width: 32px;\n",
              "    }\n",
              "\n",
              "    .colab-df-convert:hover {\n",
              "      background-color: #E2EBFA;\n",
              "      box-shadow: 0px 1px 2px rgba(60, 64, 67, 0.3), 0px 1px 3px 1px rgba(60, 64, 67, 0.15);\n",
              "      fill: #174EA6;\n",
              "    }\n",
              "\n",
              "    [theme=dark] .colab-df-convert {\n",
              "      background-color: #3B4455;\n",
              "      fill: #D2E3FC;\n",
              "    }\n",
              "\n",
              "    [theme=dark] .colab-df-convert:hover {\n",
              "      background-color: #434B5C;\n",
              "      box-shadow: 0px 1px 3px 1px rgba(0, 0, 0, 0.15);\n",
              "      filter: drop-shadow(0px 1px 2px rgba(0, 0, 0, 0.3));\n",
              "      fill: #FFFFFF;\n",
              "    }\n",
              "  </style>\n",
              "\n",
              "      <script>\n",
              "        const buttonEl =\n",
              "          document.querySelector('#df-c56ae0b4-24b1-4c2f-8ac5-45d7212e0d3c button.colab-df-convert');\n",
              "        buttonEl.style.display =\n",
              "          google.colab.kernel.accessAllowed ? 'block' : 'none';\n",
              "\n",
              "        async function convertToInteractive(key) {\n",
              "          const element = document.querySelector('#df-c56ae0b4-24b1-4c2f-8ac5-45d7212e0d3c');\n",
              "          const dataTable =\n",
              "            await google.colab.kernel.invokeFunction('convertToInteractive',\n",
              "                                                     [key], {});\n",
              "          if (!dataTable) return;\n",
              "\n",
              "          const docLinkHtml = 'Like what you see? Visit the ' +\n",
              "            '<a target=\"_blank\" href=https://colab.research.google.com/notebooks/data_table.ipynb>data table notebook</a>'\n",
              "            + ' to learn more about interactive tables.';\n",
              "          element.innerHTML = '';\n",
              "          dataTable['output_type'] = 'display_data';\n",
              "          await google.colab.output.renderOutput(dataTable, element);\n",
              "          const docLink = document.createElement('div');\n",
              "          docLink.innerHTML = docLinkHtml;\n",
              "          element.appendChild(docLink);\n",
              "        }\n",
              "      </script>\n",
              "    </div>\n",
              "  </div>\n"
            ]
          },
          "metadata": {},
          "execution_count": 31
        }
      ]
    },
    {
      "cell_type": "code",
      "source": [
        "listofTags = listofTags.drop(['Tag'], axis = 1)"
      ],
      "metadata": {
        "id": "gFs1oIjni14_"
      },
      "execution_count": 32,
      "outputs": []
    },
    {
      "cell_type": "code",
      "source": [
        "listofTags = listofTags.drop_duplicates(subset=\"Id\", keep=\"first\", inplace=False)"
      ],
      "metadata": {
        "id": "vkYPyJWDi173"
      },
      "execution_count": 33,
      "outputs": []
    },
    {
      "cell_type": "code",
      "source": [
        "listofQuestions = pd.merge(listofQuestions, listofTags, on='Id')"
      ],
      "metadata": {
        "id": "gDC2ZeIli1_e"
      },
      "execution_count": 35,
      "outputs": []
    },
    {
      "cell_type": "code",
      "source": [
        "listofQuestions.isnull().sum()"
      ],
      "metadata": {
        "colab": {
          "base_uri": "https://localhost:8080/"
        },
        "id": "4aRJCfO-i2Dp",
        "outputId": "e176de01-757d-4b86-a64d-d6ff0f11d0f5"
      },
      "execution_count": null,
      "outputs": [
        {
          "output_type": "execute_result",
          "data": {
            "text/plain": [
              "Id      0\n",
              "Body    0\n",
              "Tags    0\n",
              "dtype: int64"
            ]
          },
          "metadata": {},
          "execution_count": 38
        }
      ]
    },
    {
      "cell_type": "code",
      "source": [
        "sent_lens=[]\n",
        "for sent in listofQuestions['Body']:\n",
        "    sent_lens.append(len(word_tokenize(sent)))"
      ],
      "metadata": {
        "id": "Xr0rxuS7nE2O"
      },
      "execution_count": 36,
      "outputs": []
    },
    {
      "cell_type": "code",
      "source": [
        "max(sent_lens)"
      ],
      "metadata": {
        "colab": {
          "base_uri": "https://localhost:8080/"
        },
        "id": "2X0df0qhnE7O",
        "outputId": "3d6a1b6f-9def-467d-ce77-6e7a9a3f24d9"
      },
      "execution_count": 37,
      "outputs": [
        {
          "output_type": "execute_result",
          "data": {
            "text/plain": [
              "1819"
            ]
          },
          "metadata": {},
          "execution_count": 37
        }
      ]
    },
    {
      "cell_type": "code",
      "source": [
        "for percentile in [0.81, 0.82, 0.83, 0.84, 0.85, 0.86, 0.87, 0.88, 0.89, 0.91, 0.92, 0.93, 0.94, 0.95, 0.96, 0.97]:\n",
        "  print('For percentile:', percentile, \":\", np.quantile(sent_lens, percentile))\n"
      ],
      "metadata": {
        "colab": {
          "base_uri": "https://localhost:8080/"
        },
        "id": "8Hex6rVCnE-0",
        "outputId": "9e7d1b80-2de2-4fe6-ca2c-f42d7d69ca9a"
      },
      "execution_count": 38,
      "outputs": [
        {
          "output_type": "stream",
          "name": "stdout",
          "text": [
            "For percentile: 0.81 : 157.0\n",
            "For percentile: 0.82 : 160.0\n",
            "For percentile: 0.83 : 164.0\n",
            "For percentile: 0.84 : 168.0\n",
            "For percentile: 0.85 : 173.0\n",
            "For percentile: 0.86 : 178.0\n",
            "For percentile: 0.87 : 184.0\n",
            "For percentile: 0.88 : 190.0\n",
            "For percentile: 0.89 : 196.0\n",
            "For percentile: 0.91 : 211.0\n",
            "For percentile: 0.92 : 220.0\n",
            "For percentile: 0.93 : 231.0\n",
            "For percentile: 0.94 : 242.0\n",
            "For percentile: 0.95 : 256.0\n",
            "For percentile: 0.96 : 275.0\n",
            "For percentile: 0.97 : 298.0\n"
          ]
        }
      ]
    },
    {
      "cell_type": "code",
      "source": [
        "max_len = int(np.quantile(sent_lens, 0.88))\n",
        "print(max_len)"
      ],
      "metadata": {
        "colab": {
          "base_uri": "https://localhost:8080/"
        },
        "id": "aTClOhhNnFCn",
        "outputId": "f502043a-e20a-4684-d24b-85b6769162c5"
      },
      "execution_count": 39,
      "outputs": [
        {
          "output_type": "stream",
          "name": "stdout",
          "text": [
            "190\n"
          ]
        }
      ]
    },
    {
      "cell_type": "code",
      "source": [
        "tok = Tokenizer(char_level=False,split=' ')\n",
        "tok.fit_on_texts(listofQuestions['Body'])"
      ],
      "metadata": {
        "id": "9APMhEminFFp"
      },
      "execution_count": 41,
      "outputs": []
    },
    {
      "cell_type": "code",
      "source": [
        "multilabel = MultiLabelBinarizer()\n",
        "multilabel.fit_transform(listofQuestions['Tags'])"
      ],
      "metadata": {
        "colab": {
          "base_uri": "https://localhost:8080/"
        },
        "id": "Ndb8VMnjf3fS",
        "outputId": "432041f7-c534-4e28-875e-7cb280037ba6"
      },
      "execution_count": 44,
      "outputs": [
        {
          "output_type": "execute_result",
          "data": {
            "text/plain": [
              "array([[0, 1, 0, ..., 0, 0, 0],\n",
              "       [1, 0, 1, ..., 0, 0, 0],\n",
              "       [0, 0, 0, ..., 0, 0, 0],\n",
              "       ...,\n",
              "       [0, 0, 0, ..., 1, 0, 0],\n",
              "       [0, 0, 0, ..., 0, 0, 0],\n",
              "       [0, 0, 0, ..., 0, 0, 0]])"
            ]
          },
          "metadata": {},
          "execution_count": 44
        }
      ]
    },
    {
      "cell_type": "code",
      "source": [
        "multilabel.classes_"
      ],
      "metadata": {
        "colab": {
          "base_uri": "https://localhost:8080/"
        },
        "id": "_o__F67PcukW",
        "outputId": "90309c14-82bb-4023-c729-94a1f3142180"
      },
      "execution_count": 45,
      "outputs": [
        {
          "output_type": "execute_result",
          "data": {
            "text/plain": [
              "array(['.net', 'asp.net', 'c#', 'c++', 'iphone', 'java', 'javascript',\n",
              "       'jquery', 'php', 'python'], dtype=object)"
            ]
          },
          "metadata": {},
          "execution_count": 45
        }
      ]
    },
    {
      "cell_type": "code",
      "source": [
        "Q_train, Q_test = train_test_split(listofQuestions,test_size=0.2,random_state=2)\n",
        "x_train = Q_train['Body']\n",
        "y_train = Q_train['Tags']\n",
        "x_test  = Q_test['Body']\n",
        "y_test  = Q_test['Tags']"
      ],
      "metadata": {
        "id": "qnbxUO3ocumu"
      },
      "execution_count": 46,
      "outputs": []
    },
    {
      "cell_type": "code",
      "source": [
        "#input to model Train_X = sequences_matrix_train\n",
        "sequences_train = tok.texts_to_sequences(x_train)\n",
        "sequences_matrix_train = sequence.pad_sequences(sequences_train,maxlen=max_len)"
      ],
      "metadata": {
        "id": "rh_6au1acupC"
      },
      "execution_count": 47,
      "outputs": []
    },
    {
      "cell_type": "code",
      "source": [
        "#input to model Test_X = sequences_matrix_test\n",
        "sequences_test = tok.texts_to_sequences(x_test)\n",
        "sequences_matrix_test = sequence.pad_sequences(sequences_test, maxlen=max_len)"
      ],
      "metadata": {
        "id": "_UU5YZeMcusc"
      },
      "execution_count": 48,
      "outputs": []
    },
    {
      "cell_type": "code",
      "source": [
        "vocab_len = len(tok.index_word.keys())\n",
        "vocab_len"
      ],
      "metadata": {
        "colab": {
          "base_uri": "https://localhost:8080/"
        },
        "id": "niwHszpicnlF",
        "outputId": "382d7688-1cb9-4ea7-d73f-e33535945493"
      },
      "execution_count": 49,
      "outputs": [
        {
          "output_type": "execute_result",
          "data": {
            "text/plain": [
              "39713"
            ]
          },
          "metadata": {},
          "execution_count": 49
        }
      ]
    },
    {
      "cell_type": "code",
      "source": [
        "#Output to model Train_Y = y_train_multiLevel\n",
        "y_train_multiLevel = multilabel.transform(y_train)"
      ],
      "metadata": {
        "id": "ndy2hzyOqrka"
      },
      "execution_count": 50,
      "outputs": []
    },
    {
      "cell_type": "code",
      "source": [
        "outputNode = len(multilabel.classes_)\n",
        "max_len, outputNode"
      ],
      "metadata": {
        "colab": {
          "base_uri": "https://localhost:8080/"
        },
        "id": "vjOxlEVfqrmz",
        "outputId": "cedfe815-b244-4879-f989-12be771ae9e3"
      },
      "execution_count": 51,
      "outputs": [
        {
          "output_type": "execute_result",
          "data": {
            "text/plain": [
              "(190, 10)"
            ]
          },
          "metadata": {},
          "execution_count": 51
        }
      ]
    },
    {
      "cell_type": "code",
      "source": [
        "#Output to model Test_Y = y_test_multiLevel\n",
        "y_test_multiLevel = multilabel.transform(y_test)"
      ],
      "metadata": {
        "id": "LLnSvbn5qrpK"
      },
      "execution_count": 52,
      "outputs": []
    },
    {
      "cell_type": "code",
      "source": [
        "def RNN():\n",
        "    inputs = Input(name='inputs',shape=[max_len])\n",
        "\n",
        "    layer = Embedding(vocab_len+1,1500,input_length=max_len,\n",
        "                      mask_zero=True)(inputs)\n",
        "    layer = GRU(400)(layer)\n",
        "    layer = Dense(200,name='FC1')(layer)\n",
        "    layer = Activation('relu')(layer)\n",
        "    layer = Dense(100,name='FC2')(layer)\n",
        "    layer = Activation('relu')(layer)\n",
        "    layer = Dropout(0.5)(layer)\n",
        "    layer = Dense(outputNode,name='out_layer')(layer)\n",
        "    #layer = Activation('sigmoid')(layer)\n",
        "    layer = Activation('softmax')(layer)\n",
        "    model = Model(inputs=inputs,outputs=layer)\n",
        "    return model"
      ],
      "metadata": {
        "id": "wWaNHADSqrrt"
      },
      "execution_count": 53,
      "outputs": []
    },
    {
      "cell_type": "code",
      "source": [
        "model = RNN()\n",
        "model.summary()\n",
        "\n",
        "model.compile(loss='binary_crossentropy',optimizer='adam', metrics=['accuracy'])"
      ],
      "metadata": {
        "id": "QgY8M1fap7-l",
        "outputId": "b92e327e-808e-4d85-e8f6-3f97b16e0523",
        "colab": {
          "base_uri": "https://localhost:8080/"
        }
      },
      "execution_count": 54,
      "outputs": [
        {
          "output_type": "stream",
          "name": "stdout",
          "text": [
            "Model: \"model\"\n",
            "_________________________________________________________________\n",
            " Layer (type)                Output Shape              Param #   \n",
            "=================================================================\n",
            " inputs (InputLayer)         [(None, 190)]             0         \n",
            "                                                                 \n",
            " embedding (Embedding)       (None, 190, 1500)         59571000  \n",
            "                                                                 \n",
            " gru (GRU)                   (None, 400)               2282400   \n",
            "                                                                 \n",
            " FC1 (Dense)                 (None, 200)               80200     \n",
            "                                                                 \n",
            " activation (Activation)     (None, 200)               0         \n",
            "                                                                 \n",
            " FC2 (Dense)                 (None, 100)               20100     \n",
            "                                                                 \n",
            " activation_1 (Activation)   (None, 100)               0         \n",
            "                                                                 \n",
            " dropout (Dropout)           (None, 100)               0         \n",
            "                                                                 \n",
            " out_layer (Dense)           (None, 10)                1010      \n",
            "                                                                 \n",
            " activation_2 (Activation)   (None, 10)                0         \n",
            "                                                                 \n",
            "=================================================================\n",
            "Total params: 61,954,710\n",
            "Trainable params: 61,954,710\n",
            "Non-trainable params: 0\n",
            "_________________________________________________________________\n"
          ]
        }
      ]
    },
    {
      "cell_type": "code",
      "source": [
        "model.fit(sequences_matrix_train,y_train_multiLevel,batch_size=50,\n",
        "          epochs=3,validation_data=(sequences_matrix_test,y_test_multiLevel))\n"
      ],
      "metadata": {
        "id": "Qr1wDsKKp8BD",
        "outputId": "0301aefd-14ee-4f19-bd9b-73c4f4e3c14a",
        "colab": {
          "base_uri": "https://localhost:8080/"
        }
      },
      "execution_count": null,
      "outputs": [
        {
          "output_type": "stream",
          "name": "stdout",
          "text": [
            "Epoch 1/3\n",
            " 77/237 [========>.....................] - ETA: 18:49 - loss: 0.4239 - accuracy: 0.1431"
          ]
        }
      ]
    },
    {
      "cell_type": "code",
      "source": [
        "predictions=model.predict(sequences_matrix_test)\n",
        "\n",
        "from sklearn.metrics import roc_auc_score\n",
        "\n",
        "roc_auc_score(y_test_multiLevel,predictions)"
      ],
      "metadata": {
        "id": "VD9nsY4xp8En"
      },
      "execution_count": null,
      "outputs": []
    }
  ],
  "metadata": {
    "accelerator": "TPU",
    "colab": {
      "provenance": [],
      "gpuType": "T4"
    },
    "kernelspec": {
      "display_name": "Python 3",
      "name": "python3"
    },
    "language_info": {
      "name": "python"
    }
  },
  "nbformat": 4,
  "nbformat_minor": 0
}